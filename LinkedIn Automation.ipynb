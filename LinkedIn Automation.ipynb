{
 "cells": [
  {
   "cell_type": "markdown",
   "id": "d882cf23",
   "metadata": {},
   "source": [
    "# Import Requried Libraries"
   ]
  },
  {
   "cell_type": "code",
   "execution_count": 18,
   "id": "6c9a33ef",
   "metadata": {},
   "outputs": [],
   "source": [
    "import pandas as pd\n",
    "from selenium import webdriver\n",
    "from selenium.webdriver.common.by import By\n",
    "from selenium.webdriver.chrome.service import Service\n",
    "from selenium.webdriver.chrome.options import Options\n",
    "from webdriver_manager.chrome import ChromeDriverManager\n",
    "from time import sleep\n",
    "from selenium.webdriver.common.keys import Keys"
   ]
  },
  {
   "cell_type": "markdown",
   "id": "421dd56f",
   "metadata": {},
   "source": [
    "# SetUp the path and load the web page"
   ]
  },
  {
   "cell_type": "code",
   "execution_count": 19,
   "id": "72d04359",
   "metadata": {},
   "outputs": [],
   "source": [
    "chrome_options = Options()\n",
    "chrome_options.add_experimental_option(\"detach\", True)\n",
    "\n",
    "driver = webdriver.Chrome(service=Service(ChromeDriverManager().install()),options=chrome_options)\n",
    "\n",
    "# Load the LinkedIn login webpage on browser\n",
    "\n",
    "driver.get('https://www.linkedin.com/home')\n",
    "sleep(5)\n",
    "driver.maximize_window()"
   ]
  },
  {
   "cell_type": "markdown",
   "id": "c5ee5c73",
   "metadata": {},
   "source": [
    "# Login in the LinkedIn"
   ]
  },
  {
   "cell_type": "code",
   "execution_count": 20,
   "id": "1ff7da65",
   "metadata": {},
   "outputs": [],
   "source": [
    "user = driver.find_element(By.XPATH,'//input[@id=\"session_key\"]')\n",
    "#Enter your username here\n",
    "user.send_keys(\"USERNAME\")\n",
    "pasword = driver.find_element(By.XPATH,'//input[@id=\"session_password\"]')\n",
    "#Enter your password here\n",
    "pasword.send_keys(\"PASSWORD\")\n",
    "\n",
    "submit = driver.find_element(By.XPATH,'//*[@id=\"main-content\"]/section[1]/div/div/form/div[2]/button')\n",
    "submit.click()\n",
    "sleep(5)"
   ]
  },
  {
   "cell_type": "markdown",
   "id": "f4031258",
   "metadata": {},
   "source": [
    "# Unlimited Scroll for View every post"
   ]
  },
  {
   "cell_type": "code",
   "execution_count": 24,
   "id": "06591f65",
   "metadata": {},
   "outputs": [],
   "source": [
    "posts = driver.find_elements(By.XPATH,'//div[@class=\"ember-view  occludable-update \"]')\n",
    "for post in posts:\n",
    "    driver.execute_script(\"arguments[0].scrollIntoView();\",post)\n",
    "    sleep(1)\n",
    "    #like = driver.find_element(By.XPATH,\"//span[@class='reactions-react-button feed-shared-social-action-bar__action-button']/button[1]\")\n",
    "    #like.click()\n",
    "    sleep(5)"
   ]
  },
  {
   "cell_type": "code",
   "execution_count": 25,
   "id": "e87505bf",
   "metadata": {},
   "outputs": [],
   "source": [
    "driver.quit()"
   ]
  },
  {
   "cell_type": "code",
   "execution_count": null,
   "id": "4d5b2672",
   "metadata": {},
   "outputs": [],
   "source": []
  }
 ],
 "metadata": {
  "kernelspec": {
   "display_name": "Python 3 (ipykernel)",
   "language": "python",
   "name": "python3"
  },
  "language_info": {
   "codemirror_mode": {
    "name": "ipython",
    "version": 3
   },
   "file_extension": ".py",
   "mimetype": "text/x-python",
   "name": "python",
   "nbconvert_exporter": "python",
   "pygments_lexer": "ipython3",
   "version": "3.10.2"
  }
 },
 "nbformat": 4,
 "nbformat_minor": 5
}
